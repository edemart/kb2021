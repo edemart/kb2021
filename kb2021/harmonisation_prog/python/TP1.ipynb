{
 "cells": [
  {
   "cell_type": "markdown",
   "metadata": {},
   "source": [
    "# Bases syntaxiques de Python"
   ]
  },
  {
   "cell_type": "code",
   "execution_count": 1,
   "metadata": {},
   "outputs": [
    {
     "name": "stdout",
     "output_type": "stream",
     "text": [
      "hello world!\n"
     ]
    }
   ],
   "source": [
    "print('hello world!')"
   ]
  },
  {
   "cell_type": "code",
   "execution_count": 2,
   "metadata": {},
   "outputs": [
    {
     "name": "stdout",
     "output_type": "stream",
     "text": [
      "3.8.10 (default, Jun  2 2021, 10:49:15) \n",
      "[GCC 9.4.0]\n"
     ]
    }
   ],
   "source": [
    "import sys\n",
    "print(sys.version)"
   ]
  },
  {
   "cell_type": "code",
   "execution_count": 3,
   "metadata": {},
   "outputs": [
    {
     "name": "stdin",
     "output_type": "stream",
     "text": [
      "hello ? Dio\n"
     ]
    },
    {
     "name": "stdout",
     "output_type": "stream",
     "text": [
      "hello Dio !\n"
     ]
    }
   ],
   "source": [
    "#world = input('hello ?')\n",
    "# Utilisez une interpolation pour afficher le contenu de la variable world dans la String \"hello ___!\"\n",
    "\n",
    "# Le code ci-dessous est valide, l'erreur est uniquement liée à Jupyter Notebook.\n",
    "world = input('hello ?')\n",
    "print(f'hello {world} !')"
   ]
  },
  {
   "cell_type": "markdown",
   "metadata": {},
   "source": [
    "## Types"
   ]
  },
  {
   "cell_type": "code",
   "execution_count": 4,
   "metadata": {},
   "outputs": [
    {
     "name": "stdout",
     "output_type": "stream",
     "text": [
      "type de 8 : <class 'int'>\n",
      "type de \"test\" : <class 'str'>\n",
      "type de [] : <class 'list'>\n",
      "type de {} : <class 'dict'>\n"
     ]
    }
   ],
   "source": [
    "## Affichez les types (fonction type()) de : 8, \"test\", [], {}\n",
    "\n",
    "print(\"type de 8 :\", type(8))\n",
    "print(\"type de \\\"test\\\" :\", type(\"test\"))\n",
    "print(\"type de [] :\", type([]))\n",
    "print(\"type de {} :\", type({}))"
   ]
  },
  {
   "cell_type": "markdown",
   "metadata": {},
   "source": [
    "## Conditions"
   ]
  },
  {
   "cell_type": "code",
   "execution_count": 5,
   "metadata": {},
   "outputs": [
    {
     "name": "stdout",
     "output_type": "stream",
     "text": [
      "num est inférieur a 50\n"
     ]
    }
   ],
   "source": [
    "import random\n",
    "num = random.randint(0, 100)\n",
    "# Ecrivez une condition permettant d'afficher si num est inférieur à 50, inférieur à 75 ou à défaut, affichez num. \n",
    "\n",
    "if num < 50:\n",
    "    print(\"num est inférieur a 50\")\n",
    "elif num < 75:\n",
    "    print(\"num est inférieur a 75\")\n",
    "else : print(num)\n"
   ]
  },
  {
   "cell_type": "markdown",
   "metadata": {},
   "source": [
    "## Fonctions"
   ]
  },
  {
   "cell_type": "code",
   "execution_count": 6,
   "metadata": {},
   "outputs": [
    {
     "name": "stdout",
     "output_type": "stream",
     "text": [
      "hello esteban, votre role est etudiant\n",
      "hello Dio, votre role est user\n",
      "hello Dio, votre role est Dieu vivant\n"
     ]
    }
   ],
   "source": [
    "# Ecrivez une fonction simple imprimant \"hello user, votre role est X\"\n",
    "# user et role sont des paramètres de la fonction. \n",
    "# Utilisez deux manières différentes de transmettre les paramètres. \n",
    "\n",
    "def greetingsv1(user, role) :\n",
    "    print(f\"hello {user}, votre role est {role}\")\n",
    "    \n",
    "user = \"esteban\"\n",
    "role = \"etudiant\"\n",
    "greetingsv1(user, role)\n",
    "        \n",
    "# Modifiez cette fonction pour qu'elle retourne sa sortie plutot que de l'afficher directement.\n",
    "# Faites en sorte que le role par défaut soit \"user\"\n",
    "    \n",
    "def greetingsv2(user, role = \"user\") :\n",
    "    return f\"hello {user}, votre role est {role}\"\n",
    "\n",
    "print(greetingsv2(\"Dio\"))\n",
    "print(greetingsv2(\"Dio\",\"Dieu vivant\"))\n"
   ]
  },
  {
   "cell_type": "code",
   "execution_count": 7,
   "metadata": {},
   "outputs": [
    {
     "name": "stdout",
     "output_type": "stream",
     "text": [
      "global\n",
      "42\n"
     ]
    }
   ],
   "source": [
    "global_var = 'global'\n",
    "\n",
    "def global_test():\n",
    "    local_var = 'local'\n",
    "    # testez l'accès à global_var et local_var\n",
    "\n",
    "print(global_var)\n",
    "###print(local_var)    \n",
    "\n",
    "    # définissez une nouvelle variable globale (global_var2) avec une valeur et testez l'accès local\n",
    "\n",
    "global_var2 = 42\n",
    "print(global_var2)\n",
    "\n",
    "    # Testez l'accès aux variables global_var2 et local_var"
   ]
  },
  {
   "cell_type": "markdown",
   "metadata": {},
   "source": [
    "## Listes"
   ]
  },
  {
   "cell_type": "code",
   "execution_count": 8,
   "metadata": {},
   "outputs": [
    {
     "name": "stdout",
     "output_type": "stream",
     "text": [
      "['a', 'b', 'c', 'd']\n",
      "[25, 100, 225, 400]\n",
      "[25, 100]\n",
      "[225, 400]\n"
     ]
    }
   ],
   "source": [
    "# Convertissez cette chaine de caractères en une liste\n",
    "\n",
    "str_ex = 'a,b,c,d'\n",
    "print(str_ex.split(','))\n",
    "\n",
    "# Créez une liste contenant les carrés des nombres 5,10,15,20\n",
    "\n",
    "sqrt_list = [x**2 for x in range(5,25,5)]\n",
    "print(sqrt_list)\n",
    "\n",
    "# Affichez les deux premiers éléments de la liste\n",
    "\n",
    "print(sqrt_list[:2])\n",
    "\n",
    "# Affichez le dernier élément de la liste\n",
    "\n",
    "print(sqrt_list[-2:])\n"
   ]
  },
  {
   "cell_type": "code",
   "execution_count": 9,
   "metadata": {},
   "outputs": [
    {
     "name": "stdout",
     "output_type": "stream",
     "text": [
      "a\n",
      "b\n",
      "c\n",
      "d\n",
      "0 : a\n",
      "1 : b\n",
      "2 : c\n",
      "3 : d\n"
     ]
    }
   ],
   "source": [
    "values = [\"a\",\"b\",\"c\",\"d\"]\n",
    "\n",
    "# Affichez successivement les valeurs de la variable values\n",
    "    \n",
    "for i in values:\n",
    "    print(i)\n",
    "    \n",
    "# Affichez ces même valeurs, ainsi que l'index de chaque valeur que vous pouvez obtenir à l'aide de enumerate(). \n",
    "\n",
    "for count, value in enumerate(values):\n",
    "    print(count, ':', value)"
   ]
  },
  {
   "cell_type": "code",
   "execution_count": 10,
   "metadata": {},
   "outputs": [
    {
     "name": "stdout",
     "output_type": "stream",
     "text": [
      "1\n",
      "4\n",
      "9\n",
      "16\n",
      "25\n",
      "36\n",
      "49\n",
      "64\n",
      "81\n",
      "0\n",
      "25\n",
      "100\n",
      "225\n",
      "400\n"
     ]
    }
   ],
   "source": [
    "# A l'aide de la fonction range(), générez les nombres de 1 à 9 et affichez la valeur de chacun au carré\n",
    "nb_range = range(1,10)\n",
    "\n",
    "for nb in nb_range:\n",
    "  print(nb**2)\n",
    "\n",
    "# Faites la même chose avec une liste des nombres 0,5,10,15,20 en utilisant range().\n",
    "\n",
    "nb_range2 = range(0,21,5)\n",
    "for nb in nb_range2:\n",
    "  print(nb**2)"
   ]
  },
  {
   "cell_type": "code",
   "execution_count": 11,
   "metadata": {},
   "outputs": [
    {
     "name": "stdout",
     "output_type": "stream",
     "text": [
      "['a', 'b', 'c', 'd', 'e']\n",
      "['a', 'b', 'z', 'd', 'e']\n"
     ]
    }
   ],
   "source": [
    "# Ajoutez un élément à la liste letters et affichez la liste. \n",
    "\n",
    "letters = ['a','b','c','d']\n",
    "letters += 'e'\n",
    "print(letters)\n",
    "\n",
    "# Remplacez la lettre en seconde position par la lettre Z\n",
    "\n",
    "letters[2]= 'z'\n",
    "print(letters)\n",
    "\n",
    "# Essayez les mêmes opérations en utilisant cette fois la variables letters_t\n",
    "letters_t = ('a','b','c','d')\n",
    "\n",
    "##letters_t += 'e'\n",
    "##print(letters_t)\n",
    "##letters_t[2]= 'z'\n",
    "##print(letters_t)\"\"\"\n",
    "\n",
    "# Que pouvez-vous conclure ? \n",
    "### la variable letters_t n'est pas une liste\n"
   ]
  },
  {
   "cell_type": "code",
   "execution_count": 12,
   "metadata": {},
   "outputs": [
    {
     "name": "stdout",
     "output_type": "stream",
     "text": [
      "non Z est pas là\n",
      "False\n"
     ]
    }
   ],
   "source": [
    "# Testez si la variable letters contient la lettre Z\n",
    "if 'Z' in letters: \n",
    "    print(\"oui Z est présent\")\n",
    "else : print(\"non Z est pas là\")\n",
    "\n",
    "test = 'Z' in letters\n",
    "print(test)"
   ]
  },
  {
   "cell_type": "code",
   "execution_count": 13,
   "metadata": {},
   "outputs": [
    {
     "name": "stdout",
     "output_type": "stream",
     "text": [
      "[0, 1, 2, 3, 4, 5, 6, 7, 8, 9]\n",
      "[0, 5, 1, 2, 3, 4, 5, 6, 7, 8, 9]\n",
      "11\n",
      "9\n",
      "50\n",
      "5\n",
      "[0, 1, 2, 3, 4, 5, 6, 7, 8, 9]\n"
     ]
    }
   ],
   "source": [
    "# Déclarez une liste contenant les chiffres de 0 à 9\n",
    "\n",
    "nb_range = range(10)\n",
    "nb_list = list(nb_range)\n",
    "print(nb_list)\n",
    "\n",
    "# Ajoutez le nombre 5 à la position 1\n",
    "\n",
    "nb_list.insert(1, 5)\n",
    "print(nb_list)\n",
    "\n",
    "# Quelle est la longueur de la liste ? \n",
    "\n",
    "print(len(nb_list))\n",
    "\n",
    "# Quelle est la valeur max dans la liste ? \n",
    "\n",
    "print(max(nb_list))\n",
    "\n",
    "# Quelle est la somme de cette list ? \n",
    "\n",
    "print(sum(nb_list))\n",
    "\n",
    "# En une seule ligne, affichez le nb à la position 1 et supprimez le de la liste\n",
    "\n",
    "print(nb_list[1]); del nb_list[1]\n",
    "print(nb_list)"
   ]
  },
  {
   "cell_type": "code",
   "execution_count": 14,
   "metadata": {},
   "outputs": [
    {
     "name": "stdout",
     "output_type": "stream",
     "text": [
      "a = 1\n",
      "b = 2\n",
      "c = 3\n"
     ]
    }
   ],
   "source": [
    "l1 = ['a','b','c']\n",
    "l2 = [1,2,3]\n",
    "\n",
    "# Affichez une sortie a = 1, ... sur la base de ces deux listes. \n",
    "\n",
    "for v1,v2 in zip(l1,l2):\n",
    "    print(f\"{v1} = {v2}\")\n"
   ]
  },
  {
   "cell_type": "markdown",
   "metadata": {},
   "source": [
    "## Dictionnaires "
   ]
  },
  {
   "cell_type": "code",
   "execution_count": 15,
   "metadata": {},
   "outputs": [
    {
     "data": {
      "text/plain": [
       "dict"
      ]
     },
     "execution_count": 15,
     "metadata": {},
     "output_type": "execute_result"
    }
   ],
   "source": [
    "student = {'name':'bob', 'level': 5}\n",
    "type(student)"
   ]
  },
  {
   "cell_type": "code",
   "execution_count": 16,
   "metadata": {},
   "outputs": [
    {
     "name": "stdout",
     "output_type": "stream",
     "text": [
      "{'name': 'bob', 'level': 6, 'courses': ['python', 'javascript']}\n"
     ]
    }
   ],
   "source": [
    "# Ajoutez à ce dict une nouvelle clé contenant la liste 'courses' avec les valeurs 'python' et 'javascript', ajoutez 1 à la clé level\n",
    "student['courses'] = ['python','javascript']\n",
    "student['level'] += 1\n",
    "print(student)"
   ]
  },
  {
   "cell_type": "code",
   "execution_count": 17,
   "metadata": {},
   "outputs": [
    {
     "name": "stdout",
     "output_type": "stream",
     "text": [
      "bob\n",
      "6\n",
      "['python', 'javascript']\n",
      "name = bob\n",
      "level = 6\n",
      "courses = ['python', 'javascript']\n"
     ]
    }
   ],
   "source": [
    "# Affichez chaque valeur sur une ligne \n",
    "\n",
    "for key, value in student.items():\n",
    "    print(value)\n",
    "\n",
    "\n",
    "# Affichez chaque paire sous la forme 'clé = valeur'\n",
    "\n",
    "for key, value in student.items():\n",
    "    print(f\"{key} = {value}\")\n"
   ]
  },
  {
   "cell_type": "code",
   "execution_count": 18,
   "metadata": {},
   "outputs": [
    {
     "name": "stdout",
     "output_type": "stream",
     "text": [
      "None\n"
     ]
    }
   ],
   "source": [
    "# Testez l'affichage d'une clé inexistante en utilisant la syntaxe var['key'] ou var.get('key')\n",
    "\n",
    "#print(student['test'])\n",
    "## lead to -> Key Error \n",
    "\n",
    "print(student.get('prout'))\n",
    "## lead to -> None"
   ]
  },
  {
   "cell_type": "code",
   "execution_count": 19,
   "metadata": {},
   "outputs": [
    {
     "name": "stdout",
     "output_type": "stream",
     "text": [
      "[{'name': 'bob', 'level': 6, 'courses': ['python', 'javascript']}, {'name': 'billy', 'level': 42, 'courses': ['angular']}]\n",
      "name bob\n",
      "level 6\n",
      "courses ['python', 'javascript']\n",
      "name billy\n",
      "level 42\n",
      "courses ['angular']\n"
     ]
    }
   ],
   "source": [
    "# Créez une liste students contenant notre dict student et ajoutez un second dict similaire. \n",
    "\n",
    "students = []\n",
    "students.append(student)\n",
    "student2 = {'name':'billy', 'level': 42, 'courses': ['angular']}\n",
    "students.append(student2)\n",
    "print(students)\n",
    "\n",
    "## Affichez chaque paire de chaque objet \n",
    "\n",
    "for stud in students:\n",
    "    for key,value in stud.items() :\n",
    "        print(key, value)\n"
   ]
  },
  {
   "cell_type": "code",
   "execution_count": 1,
   "metadata": {},
   "outputs": [
    {
     "name": "stdout",
     "output_type": "stream",
     "text": [
      "{'a': 1, 'b': 2, 'c': 3}\n",
      "{'a': 1, 'b': 2, 'c': 3}\n"
     ]
    }
   ],
   "source": [
    "keys_list = ['a', 'b', 'c']\n",
    "values_list = [1,2,3]\n",
    "\n",
    "# Sur la base de ces deux listes, créez un dictionnaires associant les clés (values_1) aux valeurs (values_2)\n",
    "\n",
    "keys_list = ['a', 'b', 'c']\n",
    "values_list = [1,2,3]\n",
    "\n",
    "dict_from_list = dict(zip(keys_list, values_list))\n",
    "print(dict_from_list)\n",
    "#--------------------------\n",
    "pairs = {k:v for k,v in zip(keys_list, values_list)}\n",
    "print(pairs)"
   ]
  },
  {
   "cell_type": "code",
   "execution_count": 21,
   "metadata": {},
   "outputs": [
    {
     "name": "stdout",
     "output_type": "stream",
     "text": [
      "{1: 'a', 2: 'b'}\n"
     ]
    }
   ],
   "source": [
    "# Avec la liste de tuples suivantes, crééz un dictionnaire sous la forme {1:a, 2:b}\n",
    "tuple_ex = [(1,'a'),(2,'b')]\n",
    "\n",
    "print(dict(tuple_ex))"
   ]
  },
  {
   "cell_type": "markdown",
   "metadata": {},
   "source": [
    "## Sets"
   ]
  },
  {
   "cell_type": "code",
   "execution_count": 24,
   "metadata": {},
   "outputs": [
    {
     "name": "stdout",
     "output_type": "stream",
     "text": [
      "{'3', '2', '1'}\n",
      "{'5', '1', '3', '4', '2'}\n",
      "{'2', '1'}\n",
      "{'5', '1', '4', '2'}\n",
      "{'3'}\n"
     ]
    }
   ],
   "source": [
    "# Initialiser un set contenant les valeurs 1,2,3 et vérifier son type \n",
    "\n",
    "set1 = set('123')\n",
    "type(set1)\n",
    "print(set1)\n",
    "\n",
    "# Faites une union avec les valeurs 3,4,5, observez le set\n",
    "\n",
    "print(set1.union('345'))\n",
    "\n",
    "# Testez les fonctions difference, symmetric_difference et intersection\n",
    "set2 = set('345')\n",
    "\n",
    "print(set1.difference(set2))\n",
    "print(set1.symmetric_difference(set2))\n",
    "print(set1.intersection(set2))\n",
    "\n",
    "# Quels usages peut-on imaginer pour cette structure de données ? "
   ]
  },
  {
   "cell_type": "code",
   "execution_count": 23,
   "metadata": {},
   "outputs": [],
   "source": [
    "#The END"
   ]
  }
 ],
 "metadata": {
  "kernelspec": {
   "display_name": "Python 3 (ipykernel)",
   "language": "python",
   "name": "python3"
  },
  "language_info": {
   "codemirror_mode": {
    "name": "ipython",
    "version": 3
   },
   "file_extension": ".py",
   "mimetype": "text/x-python",
   "name": "python",
   "nbconvert_exporter": "python",
   "pygments_lexer": "ipython3",
   "version": "3.9.7"
  }
 },
 "nbformat": 4,
 "nbformat_minor": 4
}
